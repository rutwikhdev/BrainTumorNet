{
 "cells": [
  {
   "cell_type": "markdown",
   "metadata": {},
   "source": [
    "# The data we have is very small with just  so I'm going to use data augmentation\n",
    "\n",
    "In data augmentation i'm going to increase the number of images in the dataset by,\n",
    "\n",
    "* Randomly cropping\n",
    "* Zooming\n",
    "* Horizontal flipping\n",
    "* Vertical flipping \n",
    "* Height, weight shifting\n",
    "\n",
    "All of these transformations will be applied and the image will be saved as new one."
   ]
  },
  {
   "cell_type": "markdown",
   "metadata": {},
   "source": [
    "### Importing all the necessary modules"
   ]
  },
  {
   "cell_type": "code",
   "execution_count": 1,
   "metadata": {},
   "outputs": [],
   "source": [
    "import tensorflow as tf\n",
    "from tensorflow.keras.preprocessing.image import ImageDataGenerator, array_to_img, img_to_array, load_img\n",
    "import os\n",
    "from PIL import Image\n",
    "import numpy as np"
   ]
  },
  {
   "cell_type": "markdown",
   "metadata": {},
   "source": [
    "### Let's look at the data before we augment it"
   ]
  },
  {
   "cell_type": "code",
   "execution_count": 10,
   "metadata": {},
   "outputs": [
    {
     "name": "stdout",
     "output_type": "stream",
     "text": [
      "Total number of images:  331\n",
      "Number of yes(tumour is malignant) images:  186\n",
      "Number of no(tumour is benign) images:  145\n",
      "\n",
      "Percentage of yes(malignant) images: 56.19\n",
      "Percentage of no(benign) images: 43.81\n"
     ]
    }
   ],
   "source": [
    "DATADIR = os.getcwd() + '/brain_tumor_dataset'\n",
    "subdirs = (os.listdir(DATADIR))\n",
    "pathstodir = [os.path.join(DATADIR, x) for x in subdirs]\n",
    "\n",
    "def data_summary(ptd):\n",
    "    yes_images = len([x for x in os.listdir(ptd[1])])\n",
    "    no_images = len([x for x in os.listdir(ptd[0])])\n",
    "    total = yes_images + no_images\n",
    "    print(\"Total number of images: \", yes_images + no_images)\n",
    "    print(\"Number of yes(tumour is malignant) images: \", yes_images)\n",
    "    print(\"Number of no(tumour is benign) images: \", no_images)\n",
    "    print()\n",
    "    print(r\"Percentage of yes(malignant) images: {:.2f}\".format(100 * yes_images/total))\n",
    "    print(r\"Percentage of no(benign) images: {:.2f}\".format(100 * no_images/total))\n",
    "\n",
    "data_summary(pathstodir)"
   ]
  },
  {
   "cell_type": "markdown",
   "metadata": {},
   "source": [
    " As you can see there's also instability in data i.e. the number of 'yes' images is more than the number of 'no' images by almost 16%. So Let's fix that as well."
   ]
  },
  {
   "cell_type": "markdown",
   "metadata": {},
   "source": [
    "### Using Keras built in ImageDataGenerator for data augmentation"
   ]
  },
  {
   "cell_type": "code",
   "execution_count": 37,
   "metadata": {},
   "outputs": [],
   "source": [
    "def aug_data(file_dir, n_generated_samples, save_dir):\n",
    "    \n",
    "    datagen = ImageDataGenerator(\n",
    "        rotation_range=10, \n",
    "        width_shift_range=0.1, \n",
    "        height_shift_range=0.1, \n",
    "        shear_range=0.1, \n",
    "        brightness_range=(0.3, 1.0),\n",
    "        horizontal_flip=True, \n",
    "        vertical_flip=True, \n",
    "        fill_mode='nearest'\n",
    "    )\n",
    "    \n",
    "    for img_file in os.listdir(file_dir):\n",
    "        # load the image and converting it into greyscale\n",
    "        image = Image.open(os.path.join(file_dir, img_file)).convert('L')\n",
    "        # The shape of all the images need to be same, hence resizing\n",
    "        image = image.resize((240,240))\n",
    "        # reshaping the image as (1,240,240,1) because this will be convinient for cnn later\n",
    "        image = np.array(image).reshape((1,)+ (240,240,1))\n",
    "        \n",
    "        i=0\n",
    "        for batch in datagen.flow(x=image, batch_size=1, save_to_dir=save_dir, \n",
    "                                           save_prefix='aug', save_format='jpg'):\n",
    "            i += 1\n",
    "            if i > n_generated_samples:\n",
    "                break"
   ]
  },
  {
   "cell_type": "code",
   "execution_count": 38,
   "metadata": {
    "scrolled": true
   },
   "outputs": [],
   "source": [
    "apath = DATADIR + '/augmented_data/'\n",
    "aug_data(pathstodir[1], 7, apath + 'yes')\n",
    "aug_data(pathstodir[0], 9, apath + 'no')"
   ]
  },
  {
   "cell_type": "markdown",
   "metadata": {},
   "source": [
    "### After Data augmentation"
   ]
  },
  {
   "cell_type": "code",
   "execution_count": 47,
   "metadata": {},
   "outputs": [
    {
     "name": "stdout",
     "output_type": "stream",
     "text": [
      "Total number of images:  2738\n",
      "Number of yes(tumour is malignant) images:  1384\n",
      "Number of no(tumour is benign) images:  1354\n",
      "\n",
      "Percentage of yes(malignant) images: 50.55\n",
      "Percentage of no(benign) images: 49.45\n"
     ]
    }
   ],
   "source": [
    "tempdir = [os.path.join(apath, x) for x in ['yes', 'no']]\n",
    "data_summary(tempdir[::-1])"
   ]
  },
  {
   "cell_type": "markdown",
   "metadata": {},
   "source": [
    "### Great now the dataset is increased and dataset is also balanced!"
   ]
  }
 ],
 "metadata": {
  "kernelspec": {
   "display_name": "Python [conda env:DeepLearningNTF] *",
   "language": "python",
   "name": "conda-env-DeepLearningNTF-py"
  },
  "language_info": {
   "codemirror_mode": {
    "name": "ipython",
    "version": 3
   },
   "file_extension": ".py",
   "mimetype": "text/x-python",
   "name": "python",
   "nbconvert_exporter": "python",
   "pygments_lexer": "ipython3",
   "version": "3.7.6"
  }
 },
 "nbformat": 4,
 "nbformat_minor": 4
}
